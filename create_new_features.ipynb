{
 "cells": [
  {
   "cell_type": "markdown",
   "metadata": {},
   "source": [
    "### Objectives\n",
    "In this notebook, we will use the predictive probability we got from the CNN and combine them with the angle to create new features. We will exam the properties of these features.\n",
    "We will use the features we generated in this notebook to build models to boost the performance."
   ]
  },
  {
   "cell_type": "code",
   "execution_count": 1,
   "metadata": {
    "collapsed": true
   },
   "outputs": [],
   "source": [
    "# numpy and pandas for dataframe manlipulation\n",
    "import pandas as pd\n",
    "import numpy as np\n",
    "import random\n",
    "# sklearn.metrics to access the properties of the new features\n",
    "from sklearn.metrics import roc_curve,auc,log_loss,auc,accuracy_score\n",
    "from sklearn.neighbors import KNeighborsRegressor\n",
    "# matplotlib and seaborn for visualisation\n",
    "import matplotlib.pyplot as plt\n",
    "import seaborn as sns\n",
    "from time import time"
   ]
  },
  {
   "cell_type": "code",
   "execution_count": 2,
   "metadata": {
    "collapsed": true
   },
   "outputs": [],
   "source": [
    "# set the random seed\n",
    "seed = 1234\n",
    "np.random.seed(seed)\n",
    "random.seed(seed)"
   ]
  },
  {
   "cell_type": "code",
   "execution_count": 3,
   "metadata": {},
   "outputs": [
    {
     "data": {
      "text/html": [
       "<div>\n",
       "<style scoped>\n",
       "    .dataframe tbody tr th:only-of-type {\n",
       "        vertical-align: middle;\n",
       "    }\n",
       "\n",
       "    .dataframe tbody tr th {\n",
       "        vertical-align: top;\n",
       "    }\n",
       "\n",
       "    .dataframe thead th {\n",
       "        text-align: right;\n",
       "    }\n",
       "</style>\n",
       "<table border=\"1\" class=\"dataframe\">\n",
       "  <thead>\n",
       "    <tr style=\"text-align: right;\">\n",
       "      <th></th>\n",
       "      <th>id</th>\n",
       "      <th>inc_angle</th>\n",
       "      <th>is_iceberg</th>\n",
       "      <th>ice_prob</th>\n",
       "    </tr>\n",
       "  </thead>\n",
       "  <tbody>\n",
       "    <tr>\n",
       "      <th>0</th>\n",
       "      <td>dfd5f913</td>\n",
       "      <td>43.9239</td>\n",
       "      <td>0</td>\n",
       "      <td>0.018964</td>\n",
       "    </tr>\n",
       "    <tr>\n",
       "      <th>1</th>\n",
       "      <td>e25388fd</td>\n",
       "      <td>38.1562</td>\n",
       "      <td>0</td>\n",
       "      <td>0.000006</td>\n",
       "    </tr>\n",
       "    <tr>\n",
       "      <th>2</th>\n",
       "      <td>58b2aaa0</td>\n",
       "      <td>45.2859</td>\n",
       "      <td>1</td>\n",
       "      <td>0.792910</td>\n",
       "    </tr>\n",
       "    <tr>\n",
       "      <th>3</th>\n",
       "      <td>4cfc3a18</td>\n",
       "      <td>43.8306</td>\n",
       "      <td>0</td>\n",
       "      <td>0.003594</td>\n",
       "    </tr>\n",
       "    <tr>\n",
       "      <th>4</th>\n",
       "      <td>271f93f4</td>\n",
       "      <td>35.6256</td>\n",
       "      <td>0</td>\n",
       "      <td>0.002250</td>\n",
       "    </tr>\n",
       "  </tbody>\n",
       "</table>\n",
       "</div>"
      ],
      "text/plain": [
       "         id  inc_angle  is_iceberg  ice_prob\n",
       "0  dfd5f913    43.9239           0  0.018964\n",
       "1  e25388fd    38.1562           0  0.000006\n",
       "2  58b2aaa0    45.2859           1  0.792910\n",
       "3  4cfc3a18    43.8306           0  0.003594\n",
       "4  271f93f4    35.6256           0  0.002250"
      ]
     },
     "execution_count": 3,
     "metadata": {},
     "output_type": "execute_result"
    }
   ],
   "source": [
    "# load the angle and probability of the training set\n",
    "train_angle_prob = pd.read_csv('angle/train_angle_prob.csv')\n",
    "train_angle_prob.head()"
   ]
  },
  {
   "cell_type": "code",
   "execution_count": 4,
   "metadata": {},
   "outputs": [
    {
     "data": {
      "text/html": [
       "<div>\n",
       "<style scoped>\n",
       "    .dataframe tbody tr th:only-of-type {\n",
       "        vertical-align: middle;\n",
       "    }\n",
       "\n",
       "    .dataframe tbody tr th {\n",
       "        vertical-align: top;\n",
       "    }\n",
       "\n",
       "    .dataframe thead th {\n",
       "        text-align: right;\n",
       "    }\n",
       "</style>\n",
       "<table border=\"1\" class=\"dataframe\">\n",
       "  <thead>\n",
       "    <tr style=\"text-align: right;\">\n",
       "      <th></th>\n",
       "      <th>id</th>\n",
       "      <th>inc_angle</th>\n",
       "      <th>ice_prob</th>\n",
       "    </tr>\n",
       "  </thead>\n",
       "  <tbody>\n",
       "    <tr>\n",
       "      <th>0</th>\n",
       "      <td>5941774d</td>\n",
       "      <td>34.966400</td>\n",
       "      <td>0.031928</td>\n",
       "    </tr>\n",
       "    <tr>\n",
       "      <th>1</th>\n",
       "      <td>4023181e</td>\n",
       "      <td>32.615072</td>\n",
       "      <td>0.485113</td>\n",
       "    </tr>\n",
       "    <tr>\n",
       "      <th>2</th>\n",
       "      <td>b20200e4</td>\n",
       "      <td>37.505433</td>\n",
       "      <td>0.002311</td>\n",
       "    </tr>\n",
       "    <tr>\n",
       "      <th>3</th>\n",
       "      <td>e7f018bb</td>\n",
       "      <td>34.473900</td>\n",
       "      <td>0.999246</td>\n",
       "    </tr>\n",
       "    <tr>\n",
       "      <th>4</th>\n",
       "      <td>4371c8c3</td>\n",
       "      <td>43.918874</td>\n",
       "      <td>0.032981</td>\n",
       "    </tr>\n",
       "  </tbody>\n",
       "</table>\n",
       "</div>"
      ],
      "text/plain": [
       "         id  inc_angle  ice_prob\n",
       "0  5941774d  34.966400  0.031928\n",
       "1  4023181e  32.615072  0.485113\n",
       "2  b20200e4  37.505433  0.002311\n",
       "3  e7f018bb  34.473900  0.999246\n",
       "4  4371c8c3  43.918874  0.032981"
      ]
     },
     "execution_count": 4,
     "metadata": {},
     "output_type": "execute_result"
    }
   ],
   "source": [
    "# load the angle and probability of the test set\n",
    "test_angle_prob = pd.read_csv('angle/test_angle_prob.csv',index_col = 0)\n",
    "test_angle_prob.head()"
   ]
  },
  {
   "cell_type": "code",
   "execution_count": 5,
   "metadata": {},
   "outputs": [
    {
     "name": "stdout",
     "output_type": "stream",
     "text": [
      "the shape of concatenated dataframe is (9895, 4)\n"
     ]
    },
    {
     "data": {
      "text/html": [
       "<div>\n",
       "<style scoped>\n",
       "    .dataframe tbody tr th:only-of-type {\n",
       "        vertical-align: middle;\n",
       "    }\n",
       "\n",
       "    .dataframe tbody tr th {\n",
       "        vertical-align: top;\n",
       "    }\n",
       "\n",
       "    .dataframe thead th {\n",
       "        text-align: right;\n",
       "    }\n",
       "</style>\n",
       "<table border=\"1\" class=\"dataframe\">\n",
       "  <thead>\n",
       "    <tr style=\"text-align: right;\">\n",
       "      <th></th>\n",
       "      <th>ice_prob</th>\n",
       "      <th>id</th>\n",
       "      <th>inc_angle</th>\n",
       "      <th>is_iceberg</th>\n",
       "    </tr>\n",
       "  </thead>\n",
       "  <tbody>\n",
       "    <tr>\n",
       "      <th>0</th>\n",
       "      <td>0.018964</td>\n",
       "      <td>dfd5f913</td>\n",
       "      <td>43.9239</td>\n",
       "      <td>0.0</td>\n",
       "    </tr>\n",
       "    <tr>\n",
       "      <th>1</th>\n",
       "      <td>0.000006</td>\n",
       "      <td>e25388fd</td>\n",
       "      <td>38.1562</td>\n",
       "      <td>0.0</td>\n",
       "    </tr>\n",
       "    <tr>\n",
       "      <th>2</th>\n",
       "      <td>0.792910</td>\n",
       "      <td>58b2aaa0</td>\n",
       "      <td>45.2859</td>\n",
       "      <td>1.0</td>\n",
       "    </tr>\n",
       "    <tr>\n",
       "      <th>3</th>\n",
       "      <td>0.003594</td>\n",
       "      <td>4cfc3a18</td>\n",
       "      <td>43.8306</td>\n",
       "      <td>0.0</td>\n",
       "    </tr>\n",
       "    <tr>\n",
       "      <th>4</th>\n",
       "      <td>0.002250</td>\n",
       "      <td>271f93f4</td>\n",
       "      <td>35.6256</td>\n",
       "      <td>0.0</td>\n",
       "    </tr>\n",
       "  </tbody>\n",
       "</table>\n",
       "</div>"
      ],
      "text/plain": [
       "   ice_prob        id  inc_angle  is_iceberg\n",
       "0  0.018964  dfd5f913    43.9239         0.0\n",
       "1  0.000006  e25388fd    38.1562         0.0\n",
       "2  0.792910  58b2aaa0    45.2859         1.0\n",
       "3  0.003594  4cfc3a18    43.8306         0.0\n",
       "4  0.002250  271f93f4    35.6256         0.0"
      ]
     },
     "execution_count": 5,
     "metadata": {},
     "output_type": "execute_result"
    }
   ],
   "source": [
    "# concatenate the train and test set to form a new dataframe, we will do group operations using this new dataframe\n",
    "df = pd.concat([train_angle_prob,test_angle_prob],axis = 0,ignore_index = True)\n",
    "print('the shape of concatenated dataframe is',df.shape)\n",
    "df.head()"
   ]
  },
  {
   "cell_type": "markdown",
   "metadata": {},
   "source": [
    "### Compute the group mean, group median and group count of the probabilities, we group the dataframe according to the value of the inc_angle."
   ]
  },
  {
   "cell_type": "code",
   "execution_count": 6,
   "metadata": {},
   "outputs": [
    {
     "name": "stdout",
     "output_type": "stream",
     "text": [
      "the shape of concatenated dataframe is (9895, 5)\n"
     ]
    },
    {
     "data": {
      "text/html": [
       "<div>\n",
       "<style scoped>\n",
       "    .dataframe tbody tr th:only-of-type {\n",
       "        vertical-align: middle;\n",
       "    }\n",
       "\n",
       "    .dataframe tbody tr th {\n",
       "        vertical-align: top;\n",
       "    }\n",
       "\n",
       "    .dataframe thead th {\n",
       "        text-align: right;\n",
       "    }\n",
       "</style>\n",
       "<table border=\"1\" class=\"dataframe\">\n",
       "  <thead>\n",
       "    <tr style=\"text-align: right;\">\n",
       "      <th></th>\n",
       "      <th>ice_prob</th>\n",
       "      <th>id</th>\n",
       "      <th>inc_angle</th>\n",
       "      <th>is_iceberg</th>\n",
       "      <th>gmean</th>\n",
       "    </tr>\n",
       "  </thead>\n",
       "  <tbody>\n",
       "    <tr>\n",
       "      <th>0</th>\n",
       "      <td>0.018964</td>\n",
       "      <td>dfd5f913</td>\n",
       "      <td>43.9239</td>\n",
       "      <td>0.0</td>\n",
       "      <td>0.012397</td>\n",
       "    </tr>\n",
       "    <tr>\n",
       "      <th>1</th>\n",
       "      <td>0.007873</td>\n",
       "      <td>a44e0e0f</td>\n",
       "      <td>43.9239</td>\n",
       "      <td>NaN</td>\n",
       "      <td>0.012397</td>\n",
       "    </tr>\n",
       "    <tr>\n",
       "      <th>2</th>\n",
       "      <td>0.010356</td>\n",
       "      <td>6395379f</td>\n",
       "      <td>43.9239</td>\n",
       "      <td>NaN</td>\n",
       "      <td>0.012397</td>\n",
       "    </tr>\n",
       "    <tr>\n",
       "      <th>3</th>\n",
       "      <td>0.000006</td>\n",
       "      <td>e25388fd</td>\n",
       "      <td>38.1562</td>\n",
       "      <td>0.0</td>\n",
       "      <td>0.000006</td>\n",
       "    </tr>\n",
       "    <tr>\n",
       "      <th>4</th>\n",
       "      <td>0.792910</td>\n",
       "      <td>58b2aaa0</td>\n",
       "      <td>45.2859</td>\n",
       "      <td>1.0</td>\n",
       "      <td>0.730289</td>\n",
       "    </tr>\n",
       "  </tbody>\n",
       "</table>\n",
       "</div>"
      ],
      "text/plain": [
       "   ice_prob        id  inc_angle  is_iceberg     gmean\n",
       "0  0.018964  dfd5f913    43.9239         0.0  0.012397\n",
       "1  0.007873  a44e0e0f    43.9239         NaN  0.012397\n",
       "2  0.010356  6395379f    43.9239         NaN  0.012397\n",
       "3  0.000006  e25388fd    38.1562         0.0  0.000006\n",
       "4  0.792910  58b2aaa0    45.2859         1.0  0.730289"
      ]
     },
     "execution_count": 6,
     "metadata": {},
     "output_type": "execute_result"
    }
   ],
   "source": [
    "# gmean is the group mean\n",
    "gmean = df.groupby('inc_angle',as_index = False).mean()\n",
    "del gmean['is_iceberg']\n",
    "gmean.columns = ['inc_angle','gmean']\n",
    "df = pd.merge(df,gmean,on = 'inc_angle')\n",
    "print('the shape of concatenated dataframe is',df.shape)\n",
    "df.head()"
   ]
  },
  {
   "cell_type": "code",
   "execution_count": 7,
   "metadata": {},
   "outputs": [
    {
     "name": "stdout",
     "output_type": "stream",
     "text": [
      "the shape of concatenated dataframe is (9895, 6)\n"
     ]
    },
    {
     "data": {
      "text/html": [
       "<div>\n",
       "<style scoped>\n",
       "    .dataframe tbody tr th:only-of-type {\n",
       "        vertical-align: middle;\n",
       "    }\n",
       "\n",
       "    .dataframe tbody tr th {\n",
       "        vertical-align: top;\n",
       "    }\n",
       "\n",
       "    .dataframe thead th {\n",
       "        text-align: right;\n",
       "    }\n",
       "</style>\n",
       "<table border=\"1\" class=\"dataframe\">\n",
       "  <thead>\n",
       "    <tr style=\"text-align: right;\">\n",
       "      <th></th>\n",
       "      <th>ice_prob</th>\n",
       "      <th>id</th>\n",
       "      <th>inc_angle</th>\n",
       "      <th>is_iceberg</th>\n",
       "      <th>gmean</th>\n",
       "      <th>gmedian</th>\n",
       "    </tr>\n",
       "  </thead>\n",
       "  <tbody>\n",
       "    <tr>\n",
       "      <th>0</th>\n",
       "      <td>0.018964</td>\n",
       "      <td>dfd5f913</td>\n",
       "      <td>43.9239</td>\n",
       "      <td>0.0</td>\n",
       "      <td>0.012397</td>\n",
       "      <td>0.010356</td>\n",
       "    </tr>\n",
       "    <tr>\n",
       "      <th>1</th>\n",
       "      <td>0.007873</td>\n",
       "      <td>a44e0e0f</td>\n",
       "      <td>43.9239</td>\n",
       "      <td>NaN</td>\n",
       "      <td>0.012397</td>\n",
       "      <td>0.010356</td>\n",
       "    </tr>\n",
       "    <tr>\n",
       "      <th>2</th>\n",
       "      <td>0.010356</td>\n",
       "      <td>6395379f</td>\n",
       "      <td>43.9239</td>\n",
       "      <td>NaN</td>\n",
       "      <td>0.012397</td>\n",
       "      <td>0.010356</td>\n",
       "    </tr>\n",
       "    <tr>\n",
       "      <th>3</th>\n",
       "      <td>0.000006</td>\n",
       "      <td>e25388fd</td>\n",
       "      <td>38.1562</td>\n",
       "      <td>0.0</td>\n",
       "      <td>0.000006</td>\n",
       "      <td>0.000006</td>\n",
       "    </tr>\n",
       "    <tr>\n",
       "      <th>4</th>\n",
       "      <td>0.792910</td>\n",
       "      <td>58b2aaa0</td>\n",
       "      <td>45.2859</td>\n",
       "      <td>1.0</td>\n",
       "      <td>0.730289</td>\n",
       "      <td>0.786591</td>\n",
       "    </tr>\n",
       "  </tbody>\n",
       "</table>\n",
       "</div>"
      ],
      "text/plain": [
       "   ice_prob        id  inc_angle  is_iceberg     gmean   gmedian\n",
       "0  0.018964  dfd5f913    43.9239         0.0  0.012397  0.010356\n",
       "1  0.007873  a44e0e0f    43.9239         NaN  0.012397  0.010356\n",
       "2  0.010356  6395379f    43.9239         NaN  0.012397  0.010356\n",
       "3  0.000006  e25388fd    38.1562         0.0  0.000006  0.000006\n",
       "4  0.792910  58b2aaa0    45.2859         1.0  0.730289  0.786591"
      ]
     },
     "execution_count": 7,
     "metadata": {},
     "output_type": "execute_result"
    }
   ],
   "source": [
    "# gmedian is the group median\n",
    "gmedian = df.groupby('inc_angle',as_index = False).median()\n",
    "del gmedian['is_iceberg']\n",
    "del gmedian['gmean']\n",
    "gmedian.columns = ['inc_angle','gmedian']\n",
    "df = pd.merge(df,gmedian,on = 'inc_angle')\n",
    "print('the shape of concatenated dataframe is',df.shape)\n",
    "df.head()"
   ]
  },
  {
   "cell_type": "code",
   "execution_count": 8,
   "metadata": {},
   "outputs": [
    {
     "name": "stdout",
     "output_type": "stream",
     "text": [
      "the shape of concatenated dataframe is (9895, 7)\n"
     ]
    },
    {
     "data": {
      "text/html": [
       "<div>\n",
       "<style scoped>\n",
       "    .dataframe tbody tr th:only-of-type {\n",
       "        vertical-align: middle;\n",
       "    }\n",
       "\n",
       "    .dataframe tbody tr th {\n",
       "        vertical-align: top;\n",
       "    }\n",
       "\n",
       "    .dataframe thead th {\n",
       "        text-align: right;\n",
       "    }\n",
       "</style>\n",
       "<table border=\"1\" class=\"dataframe\">\n",
       "  <thead>\n",
       "    <tr style=\"text-align: right;\">\n",
       "      <th></th>\n",
       "      <th>ice_prob</th>\n",
       "      <th>id</th>\n",
       "      <th>inc_angle</th>\n",
       "      <th>is_iceberg</th>\n",
       "      <th>gmean</th>\n",
       "      <th>gmedian</th>\n",
       "      <th>gcount</th>\n",
       "    </tr>\n",
       "  </thead>\n",
       "  <tbody>\n",
       "    <tr>\n",
       "      <th>0</th>\n",
       "      <td>0.018964</td>\n",
       "      <td>dfd5f913</td>\n",
       "      <td>43.9239</td>\n",
       "      <td>0.0</td>\n",
       "      <td>0.012397</td>\n",
       "      <td>0.010356</td>\n",
       "      <td>3</td>\n",
       "    </tr>\n",
       "    <tr>\n",
       "      <th>1</th>\n",
       "      <td>0.007873</td>\n",
       "      <td>a44e0e0f</td>\n",
       "      <td>43.9239</td>\n",
       "      <td>NaN</td>\n",
       "      <td>0.012397</td>\n",
       "      <td>0.010356</td>\n",
       "      <td>3</td>\n",
       "    </tr>\n",
       "    <tr>\n",
       "      <th>2</th>\n",
       "      <td>0.010356</td>\n",
       "      <td>6395379f</td>\n",
       "      <td>43.9239</td>\n",
       "      <td>NaN</td>\n",
       "      <td>0.012397</td>\n",
       "      <td>0.010356</td>\n",
       "      <td>3</td>\n",
       "    </tr>\n",
       "    <tr>\n",
       "      <th>3</th>\n",
       "      <td>0.000006</td>\n",
       "      <td>e25388fd</td>\n",
       "      <td>38.1562</td>\n",
       "      <td>0.0</td>\n",
       "      <td>0.000006</td>\n",
       "      <td>0.000006</td>\n",
       "      <td>1</td>\n",
       "    </tr>\n",
       "    <tr>\n",
       "      <th>4</th>\n",
       "      <td>0.792910</td>\n",
       "      <td>58b2aaa0</td>\n",
       "      <td>45.2859</td>\n",
       "      <td>1.0</td>\n",
       "      <td>0.730289</td>\n",
       "      <td>0.786591</td>\n",
       "      <td>34</td>\n",
       "    </tr>\n",
       "  </tbody>\n",
       "</table>\n",
       "</div>"
      ],
      "text/plain": [
       "   ice_prob        id  inc_angle  is_iceberg     gmean   gmedian  gcount\n",
       "0  0.018964  dfd5f913    43.9239         0.0  0.012397  0.010356       3\n",
       "1  0.007873  a44e0e0f    43.9239         NaN  0.012397  0.010356       3\n",
       "2  0.010356  6395379f    43.9239         NaN  0.012397  0.010356       3\n",
       "3  0.000006  e25388fd    38.1562         0.0  0.000006  0.000006       1\n",
       "4  0.792910  58b2aaa0    45.2859         1.0  0.730289  0.786591      34"
      ]
     },
     "execution_count": 8,
     "metadata": {},
     "output_type": "execute_result"
    }
   ],
   "source": [
    "# gcount is the group count\n",
    "gcount = df.groupby('inc_angle',as_index = False).count()\n",
    "del gcount['ice_prob']\n",
    "del gcount['is_iceberg']\n",
    "del gcount['gmean']\n",
    "del gcount['gmedian']\n",
    "gcount.columns = ['inc_angle','gcount']\n",
    "df = pd.merge(df,gcount,on = 'inc_angle')\n",
    "print('the shape of concatenated dataframe is',df.shape)\n",
    "df.head()"
   ]
  },
  {
   "cell_type": "markdown",
   "metadata": {},
   "source": [
    "### Restore the order of the train and test set\n",
    "The group operations have disrupted the order of the training and test set, we should restore the original order."
   ]
  },
  {
   "cell_type": "code",
   "execution_count": 9,
   "metadata": {},
   "outputs": [
    {
     "name": "stdout",
     "output_type": "stream",
     "text": [
      "the shape of train set is (1471, 7)\n"
     ]
    },
    {
     "data": {
      "text/html": [
       "<div>\n",
       "<style scoped>\n",
       "    .dataframe tbody tr th:only-of-type {\n",
       "        vertical-align: middle;\n",
       "    }\n",
       "\n",
       "    .dataframe tbody tr th {\n",
       "        vertical-align: top;\n",
       "    }\n",
       "\n",
       "    .dataframe thead th {\n",
       "        text-align: right;\n",
       "    }\n",
       "</style>\n",
       "<table border=\"1\" class=\"dataframe\">\n",
       "  <thead>\n",
       "    <tr style=\"text-align: right;\">\n",
       "      <th></th>\n",
       "      <th>ice_prob</th>\n",
       "      <th>id</th>\n",
       "      <th>inc_angle</th>\n",
       "      <th>is_iceberg</th>\n",
       "      <th>gmean</th>\n",
       "      <th>gmedian</th>\n",
       "      <th>gcount</th>\n",
       "    </tr>\n",
       "  </thead>\n",
       "  <tbody>\n",
       "    <tr>\n",
       "      <th>0</th>\n",
       "      <td>0.018964</td>\n",
       "      <td>dfd5f913</td>\n",
       "      <td>43.9239</td>\n",
       "      <td>0.0</td>\n",
       "      <td>0.012397</td>\n",
       "      <td>0.010356</td>\n",
       "      <td>3</td>\n",
       "    </tr>\n",
       "    <tr>\n",
       "      <th>1</th>\n",
       "      <td>0.000006</td>\n",
       "      <td>e25388fd</td>\n",
       "      <td>38.1562</td>\n",
       "      <td>0.0</td>\n",
       "      <td>0.000006</td>\n",
       "      <td>0.000006</td>\n",
       "      <td>1</td>\n",
       "    </tr>\n",
       "    <tr>\n",
       "      <th>2</th>\n",
       "      <td>0.792910</td>\n",
       "      <td>58b2aaa0</td>\n",
       "      <td>45.2859</td>\n",
       "      <td>1.0</td>\n",
       "      <td>0.730289</td>\n",
       "      <td>0.786591</td>\n",
       "      <td>34</td>\n",
       "    </tr>\n",
       "    <tr>\n",
       "      <th>3</th>\n",
       "      <td>0.003594</td>\n",
       "      <td>4cfc3a18</td>\n",
       "      <td>43.8306</td>\n",
       "      <td>0.0</td>\n",
       "      <td>0.003594</td>\n",
       "      <td>0.003594</td>\n",
       "      <td>1</td>\n",
       "    </tr>\n",
       "    <tr>\n",
       "      <th>4</th>\n",
       "      <td>0.002250</td>\n",
       "      <td>271f93f4</td>\n",
       "      <td>35.6256</td>\n",
       "      <td>0.0</td>\n",
       "      <td>0.009664</td>\n",
       "      <td>0.002250</td>\n",
       "      <td>3</td>\n",
       "    </tr>\n",
       "  </tbody>\n",
       "</table>\n",
       "</div>"
      ],
      "text/plain": [
       "   ice_prob        id  inc_angle  is_iceberg     gmean   gmedian  gcount\n",
       "0  0.018964  dfd5f913    43.9239         0.0  0.012397  0.010356       3\n",
       "1  0.000006  e25388fd    38.1562         0.0  0.000006  0.000006       1\n",
       "2  0.792910  58b2aaa0    45.2859         1.0  0.730289  0.786591      34\n",
       "3  0.003594  4cfc3a18    43.8306         0.0  0.003594  0.003594       1\n",
       "4  0.002250  271f93f4    35.6256         0.0  0.009664  0.002250       3"
      ]
     },
     "execution_count": 9,
     "metadata": {},
     "output_type": "execute_result"
    }
   ],
   "source": [
    "train = pd.DataFrame()\n",
    "for n in range(len(train_angle_prob)):\n",
    "    train = pd.concat([train,df[df['id']==train_angle_prob['id'][n]]],axis = 0)\n",
    "train.index = range(len(train_angle_prob))\n",
    "print('the shape of train set is',train.shape)\n",
    "train.head()"
   ]
  },
  {
   "cell_type": "code",
   "execution_count": 10,
   "metadata": {},
   "outputs": [
    {
     "name": "stdout",
     "output_type": "stream",
     "text": [
      "the shape of test set is (8424, 7)\n"
     ]
    },
    {
     "data": {
      "text/html": [
       "<div>\n",
       "<style scoped>\n",
       "    .dataframe tbody tr th:only-of-type {\n",
       "        vertical-align: middle;\n",
       "    }\n",
       "\n",
       "    .dataframe tbody tr th {\n",
       "        vertical-align: top;\n",
       "    }\n",
       "\n",
       "    .dataframe thead th {\n",
       "        text-align: right;\n",
       "    }\n",
       "</style>\n",
       "<table border=\"1\" class=\"dataframe\">\n",
       "  <thead>\n",
       "    <tr style=\"text-align: right;\">\n",
       "      <th></th>\n",
       "      <th>ice_prob</th>\n",
       "      <th>id</th>\n",
       "      <th>inc_angle</th>\n",
       "      <th>is_iceberg</th>\n",
       "      <th>gmean</th>\n",
       "      <th>gmedian</th>\n",
       "      <th>gcount</th>\n",
       "    </tr>\n",
       "  </thead>\n",
       "  <tbody>\n",
       "    <tr>\n",
       "      <th>0</th>\n",
       "      <td>0.031928</td>\n",
       "      <td>5941774d</td>\n",
       "      <td>34.966400</td>\n",
       "      <td>NaN</td>\n",
       "      <td>0.010634</td>\n",
       "      <td>0.001829</td>\n",
       "      <td>13</td>\n",
       "    </tr>\n",
       "    <tr>\n",
       "      <th>1</th>\n",
       "      <td>0.485113</td>\n",
       "      <td>4023181e</td>\n",
       "      <td>32.615072</td>\n",
       "      <td>NaN</td>\n",
       "      <td>0.485113</td>\n",
       "      <td>0.485113</td>\n",
       "      <td>1</td>\n",
       "    </tr>\n",
       "    <tr>\n",
       "      <th>2</th>\n",
       "      <td>0.002311</td>\n",
       "      <td>b20200e4</td>\n",
       "      <td>37.505433</td>\n",
       "      <td>NaN</td>\n",
       "      <td>0.002311</td>\n",
       "      <td>0.002311</td>\n",
       "      <td>1</td>\n",
       "    </tr>\n",
       "    <tr>\n",
       "      <th>3</th>\n",
       "      <td>0.999246</td>\n",
       "      <td>e7f018bb</td>\n",
       "      <td>34.473900</td>\n",
       "      <td>NaN</td>\n",
       "      <td>0.998011</td>\n",
       "      <td>0.998276</td>\n",
       "      <td>5</td>\n",
       "    </tr>\n",
       "    <tr>\n",
       "      <th>4</th>\n",
       "      <td>0.032981</td>\n",
       "      <td>4371c8c3</td>\n",
       "      <td>43.918874</td>\n",
       "      <td>NaN</td>\n",
       "      <td>0.032981</td>\n",
       "      <td>0.032981</td>\n",
       "      <td>1</td>\n",
       "    </tr>\n",
       "  </tbody>\n",
       "</table>\n",
       "</div>"
      ],
      "text/plain": [
       "   ice_prob        id  inc_angle  is_iceberg     gmean   gmedian  gcount\n",
       "0  0.031928  5941774d  34.966400         NaN  0.010634  0.001829      13\n",
       "1  0.485113  4023181e  32.615072         NaN  0.485113  0.485113       1\n",
       "2  0.002311  b20200e4  37.505433         NaN  0.002311  0.002311       1\n",
       "3  0.999246  e7f018bb  34.473900         NaN  0.998011  0.998276       5\n",
       "4  0.032981  4371c8c3  43.918874         NaN  0.032981  0.032981       1"
      ]
     },
     "execution_count": 10,
     "metadata": {},
     "output_type": "execute_result"
    }
   ],
   "source": [
    "test = pd.DataFrame()\n",
    "for n in range(len(test_angle_prob)):\n",
    "    test = pd.concat([test,df[df['id']==test_angle_prob['id'][n]]],axis = 0)\n",
    "test.index = range(len(test_angle_prob))\n",
    "print('the shape of test set is',test.shape)\n",
    "test.head()"
   ]
  },
  {
   "cell_type": "code",
   "execution_count": 11,
   "metadata": {
    "collapsed": true
   },
   "outputs": [],
   "source": [
    "train.to_csv('new_features/new_features_train.csv',index = False)\n",
    "test.to_csv('new_features/new_features_test.csv',index = False)"
   ]
  },
  {
   "cell_type": "markdown",
   "metadata": {},
   "source": [
    "### Visualize the new features"
   ]
  },
  {
   "cell_type": "code",
   "execution_count": 12,
   "metadata": {},
   "outputs": [
    {
     "data": {
      "image/png": "[encoded data removed]",
      "text/plain": [
       "<matplotlib.figure.Figure at 0x25950fc8e80>"
      ]
     },
     "metadata": {},
     "output_type": "display_data"
    }
   ],
   "source": [
    "def plot_roc(y_true,y_pred,label):\n",
    "    fpr, tpr, thresholds = roc_curve(y_true.astype('int'), y_pred,pos_label = 1,drop_intermediate = False)\n",
    "    lw = 2\n",
    "    roc_auc = auc(fpr, tpr)\n",
    "    plt.plot(fpr, tpr, color='darkorange',lw=lw,label='ROC curve (area = %0.2f)' % roc_auc)\n",
    "    plt.plot([0, 1], [0, 1], color='navy', lw=lw, linestyle='--')\n",
    "    plt.xlabel('False Positive Rate')\n",
    "    plt.ylabel('True Positive Rate')\n",
    "    plt.title('ROC curve of '+label)\n",
    "    plt.legend(loc='lower right')\n",
    "\n",
    "labels=['ice_prob', 'gmean', 'gmedian', 'gcount']\n",
    "\n",
    "fig = plt.figure(figsize = (10,10))\n",
    "y_true = train['is_iceberg']\n",
    "n_ax = 1\n",
    "for label in labels:\n",
    "    fig.add_subplot(220+n_ax)\n",
    "    y_pred = train[label]\n",
    "    plot_roc(y_true,y_pred,label)\n",
    "    n_ax = n_ax + 1\n",
    "\n",
    "plt.show()"
   ]
  },
  {
   "cell_type": "markdown",
   "metadata": {},
   "source": [
    "### Use the labels of the training set to improve the precision of prediction\n",
    "We already know the labels of the training set. We can use the label to improve the group prediction."
   ]
  },
  {
   "cell_type": "code",
   "execution_count": 13,
   "metadata": {},
   "outputs": [
    {
     "name": "stdout",
     "output_type": "stream",
     "text": [
      "Float64Index([30.1586, 30.4373, 30.4878, 30.6681, 30.6966, 31.0434, 31.0446,\n",
      "              31.0477, 31.3119, 31.3404,\n",
      "              ...\n",
      "              45.3846, 45.3867, 45.4055, 45.7359, 45.7622, 45.7649, 45.8848,\n",
      "              45.8866, 45.9276, 45.9369],\n",
      "             dtype='float64', name='inc_angle', length=719)\n"
     ]
    }
   ],
   "source": [
    "# we only need to tweak the values of the group that contains more than one member\n",
    "data = pd.concat([train,test],axis = 0,ignore_index = True)\n",
    "ls = data.groupby('inc_angle').count()['ice_prob']>1\n",
    "# the angle_lst is to store the groups that have more than one member\n",
    "angle_lst = ls[ls].index\n",
    "print(angle_lst)"
   ]
  },
  {
   "cell_type": "code",
   "execution_count": 14,
   "metadata": {
    "collapsed": true
   },
   "outputs": [],
   "source": [
    "for l in angle_lst:\n",
    "    temp = data[data['inc_angle']==l]\n",
    "    res = []\n",
    "    for m in range(temp.shape[0]):    \n",
    "        a = temp.loc[temp.index[m],'ice_prob']\n",
    "        temp2 = temp.drop(index = temp.index[m])\n",
    "        for m in range(len(temp2)):\n",
    "            if np.isnan(temp2.iloc[m,3]):\n",
    "                a = a + temp2.iloc[m,0]\n",
    "            else:\n",
    "                a = a + temp2.iloc[m,3]\n",
    "        a = a/len(temp)\n",
    "        res.append(a)\n",
    "    res = np.array(res)\n",
    "    data.loc[data['inc_angle']==l,'gmean'] = res"
   ]
  },
  {
   "cell_type": "code",
   "execution_count": 15,
   "metadata": {
    "collapsed": true
   },
   "outputs": [],
   "source": [
    "for l in angle_lst:\n",
    "    temp = data[data['inc_angle']==l]\n",
    "    res = []\n",
    "    for m in range(temp.shape[0]):    \n",
    "        a = []\n",
    "        a.append(temp.loc[temp.index[m],'ice_prob'])\n",
    "        temp2 = temp.drop(index = temp.index[m])\n",
    "        for m in range(len(temp2)):\n",
    "            if np.isnan(temp2.iloc[m,3]):\n",
    "                a.append(temp2.iloc[m,0])\n",
    "            else:\n",
    "                a.append(temp2.iloc[m,3])\n",
    "        a = np.array(a)\n",
    "        res.append(np.median(a))\n",
    "    res = np.array(res)\n",
    "    data.loc[data['inc_angle']==l,'gmedian'] = res"
   ]
  },
  {
   "cell_type": "code",
   "execution_count": 16,
   "metadata": {},
   "outputs": [
    {
     "name": "stdout",
     "output_type": "stream",
     "text": [
      "1789.5095324516296\n"
     ]
    }
   ],
   "source": [
    "t0 = time()\n",
    "score = []\n",
    "for k in range(1,100):\n",
    "    a = []\n",
    "    for n in range(len(data)):\n",
    "        temp = data.drop(index = n)\n",
    "        if n<1471:\n",
    "            y1 = temp.iloc[:1470,3]\n",
    "            y2 = temp.iloc[1470:,0]\n",
    "            y = np.concatenate((y1,y2))\n",
    "            X = np.expand_dims(temp.iloc[:,2],axis = 1)\n",
    "        reg = KNeighborsRegressor(n_neighbors=k, weights='distance', algorithm='brute')\n",
    "        reg.fit(X,y)\n",
    "        a.append(reg.predict(np.array([[data.loc[n,'inc_angle']]]))[0])\n",
    "    a = np.array(a)\n",
    "    a[a==0]=0.001\n",
    "    a[a==1]=0.999\n",
    "    score.append(log_loss(train.iloc[:,3],a[:len(train)]))\n",
    "print(time() - t0)"
   ]
  },
  {
   "cell_type": "code",
   "execution_count": 19,
   "metadata": {},
   "outputs": [
    {
     "data": {
      "image/png": "[encoded data removed]",
      "text/plain": [
       "<matplotlib.figure.Figure at 0x25953258e10>"
      ]
     },
     "metadata": {},
     "output_type": "display_data"
    }
   ],
   "source": [
    "plt.plot(np.arange(1,100),np.array(score))\n",
    "plt.title('the log_loss of KNN')\n",
    "plt.xlabel('n_neighbores')\n",
    "plt.ylabel('log_loss')\n",
    "plt.show()"
   ]
  },
  {
   "cell_type": "code",
   "execution_count": 20,
   "metadata": {},
   "outputs": [
    {
     "data": {
      "text/plain": [
       "43"
      ]
     },
     "execution_count": 20,
     "metadata": {},
     "output_type": "execute_result"
    }
   ],
   "source": [
    "range(1,100)[np.argmin(np.array(score))]"
   ]
  },
  {
   "cell_type": "code",
   "execution_count": 21,
   "metadata": {},
   "outputs": [
    {
     "name": "stdout",
     "output_type": "stream",
     "text": [
      "25.172959566116333\n"
     ]
    }
   ],
   "source": [
    "t0 = time()\n",
    "for n in range(len(data)):\n",
    "    temp = data.drop(index = n)\n",
    "    if n<1471:\n",
    "        y1 = temp.iloc[:1470,3]\n",
    "        y2 = temp.iloc[1470:,0]\n",
    "        y = np.concatenate((y1,y2))\n",
    "        X = np.expand_dims(temp.iloc[:,2],axis = 1)\n",
    "    reg = KNeighborsRegressor(n_neighbors=43, weights='distance', algorithm='brute')\n",
    "    reg.fit(X,y)\n",
    "    data.loc[n,'KNN_prob'] = reg.predict(np.array([[data.loc[n,'inc_angle']]]))\n",
    "print(time() - t0)"
   ]
  },
  {
   "cell_type": "code",
   "execution_count": 22,
   "metadata": {},
   "outputs": [
    {
     "data": {
      "text/html": [
       "<div>\n",
       "<style scoped>\n",
       "    .dataframe tbody tr th:only-of-type {\n",
       "        vertical-align: middle;\n",
       "    }\n",
       "\n",
       "    .dataframe tbody tr th {\n",
       "        vertical-align: top;\n",
       "    }\n",
       "\n",
       "    .dataframe thead th {\n",
       "        text-align: right;\n",
       "    }\n",
       "</style>\n",
       "<table border=\"1\" class=\"dataframe\">\n",
       "  <thead>\n",
       "    <tr style=\"text-align: right;\">\n",
       "      <th></th>\n",
       "      <th>ice_prob</th>\n",
       "      <th>id</th>\n",
       "      <th>inc_angle</th>\n",
       "      <th>is_iceberg</th>\n",
       "      <th>gmean</th>\n",
       "      <th>gmedian</th>\n",
       "      <th>gcount</th>\n",
       "      <th>KNN_prob</th>\n",
       "    </tr>\n",
       "  </thead>\n",
       "  <tbody>\n",
       "    <tr>\n",
       "      <th>0</th>\n",
       "      <td>0.018964</td>\n",
       "      <td>dfd5f913</td>\n",
       "      <td>43.9239</td>\n",
       "      <td>0.0</td>\n",
       "      <td>0.012397</td>\n",
       "      <td>0.010356</td>\n",
       "      <td>3</td>\n",
       "      <td>0.009114</td>\n",
       "    </tr>\n",
       "    <tr>\n",
       "      <th>1</th>\n",
       "      <td>0.000006</td>\n",
       "      <td>e25388fd</td>\n",
       "      <td>38.1562</td>\n",
       "      <td>0.0</td>\n",
       "      <td>0.000006</td>\n",
       "      <td>0.000006</td>\n",
       "      <td>1</td>\n",
       "      <td>0.015138</td>\n",
       "    </tr>\n",
       "    <tr>\n",
       "      <th>2</th>\n",
       "      <td>0.792910</td>\n",
       "      <td>58b2aaa0</td>\n",
       "      <td>45.2859</td>\n",
       "      <td>1.0</td>\n",
       "      <td>0.765422</td>\n",
       "      <td>0.802449</td>\n",
       "      <td>34</td>\n",
       "      <td>0.764589</td>\n",
       "    </tr>\n",
       "    <tr>\n",
       "      <th>3</th>\n",
       "      <td>0.003594</td>\n",
       "      <td>4cfc3a18</td>\n",
       "      <td>43.8306</td>\n",
       "      <td>0.0</td>\n",
       "      <td>0.003594</td>\n",
       "      <td>0.003594</td>\n",
       "      <td>1</td>\n",
       "      <td>0.571834</td>\n",
       "    </tr>\n",
       "    <tr>\n",
       "      <th>4</th>\n",
       "      <td>0.002250</td>\n",
       "      <td>271f93f4</td>\n",
       "      <td>35.6256</td>\n",
       "      <td>0.0</td>\n",
       "      <td>0.009664</td>\n",
       "      <td>0.002250</td>\n",
       "      <td>3</td>\n",
       "      <td>0.013371</td>\n",
       "    </tr>\n",
       "  </tbody>\n",
       "</table>\n",
       "</div>"
      ],
      "text/plain": [
       "   ice_prob        id  inc_angle  is_iceberg     gmean   gmedian  gcount  \\\n",
       "0  0.018964  dfd5f913    43.9239         0.0  0.012397  0.010356       3   \n",
       "1  0.000006  e25388fd    38.1562         0.0  0.000006  0.000006       1   \n",
       "2  0.792910  58b2aaa0    45.2859         1.0  0.765422  0.802449      34   \n",
       "3  0.003594  4cfc3a18    43.8306         0.0  0.003594  0.003594       1   \n",
       "4  0.002250  271f93f4    35.6256         0.0  0.009664  0.002250       3   \n",
       "\n",
       "   KNN_prob  \n",
       "0  0.009114  \n",
       "1  0.015138  \n",
       "2  0.764589  \n",
       "3  0.571834  \n",
       "4  0.013371  "
      ]
     },
     "execution_count": 22,
     "metadata": {},
     "output_type": "execute_result"
    }
   ],
   "source": [
    "train = data.dropna()\n",
    "train.head()"
   ]
  },
  {
   "cell_type": "code",
   "execution_count": 23,
   "metadata": {},
   "outputs": [
    {
     "data": {
      "text/html": [
       "<div>\n",
       "<style scoped>\n",
       "    .dataframe tbody tr th:only-of-type {\n",
       "        vertical-align: middle;\n",
       "    }\n",
       "\n",
       "    .dataframe tbody tr th {\n",
       "        vertical-align: top;\n",
       "    }\n",
       "\n",
       "    .dataframe thead th {\n",
       "        text-align: right;\n",
       "    }\n",
       "</style>\n",
       "<table border=\"1\" class=\"dataframe\">\n",
       "  <thead>\n",
       "    <tr style=\"text-align: right;\">\n",
       "      <th></th>\n",
       "      <th>ice_prob</th>\n",
       "      <th>id</th>\n",
       "      <th>inc_angle</th>\n",
       "      <th>is_iceberg</th>\n",
       "      <th>gmean</th>\n",
       "      <th>gmedian</th>\n",
       "      <th>gcount</th>\n",
       "      <th>KNN_prob</th>\n",
       "    </tr>\n",
       "  </thead>\n",
       "  <tbody>\n",
       "    <tr>\n",
       "      <th>1471</th>\n",
       "      <td>0.031928</td>\n",
       "      <td>5941774d</td>\n",
       "      <td>34.966400</td>\n",
       "      <td>NaN</td>\n",
       "      <td>0.007360</td>\n",
       "      <td>0.000011</td>\n",
       "      <td>13</td>\n",
       "      <td>0.007360</td>\n",
       "    </tr>\n",
       "    <tr>\n",
       "      <th>1472</th>\n",
       "      <td>0.485113</td>\n",
       "      <td>4023181e</td>\n",
       "      <td>32.615072</td>\n",
       "      <td>NaN</td>\n",
       "      <td>0.485113</td>\n",
       "      <td>0.485113</td>\n",
       "      <td>1</td>\n",
       "      <td>0.485113</td>\n",
       "    </tr>\n",
       "    <tr>\n",
       "      <th>1473</th>\n",
       "      <td>0.002311</td>\n",
       "      <td>b20200e4</td>\n",
       "      <td>37.505433</td>\n",
       "      <td>NaN</td>\n",
       "      <td>0.002311</td>\n",
       "      <td>0.002311</td>\n",
       "      <td>1</td>\n",
       "      <td>0.002311</td>\n",
       "    </tr>\n",
       "    <tr>\n",
       "      <th>1474</th>\n",
       "      <td>0.999246</td>\n",
       "      <td>e7f018bb</td>\n",
       "      <td>34.473900</td>\n",
       "      <td>NaN</td>\n",
       "      <td>0.998011</td>\n",
       "      <td>0.998276</td>\n",
       "      <td>5</td>\n",
       "      <td>0.998011</td>\n",
       "    </tr>\n",
       "    <tr>\n",
       "      <th>1475</th>\n",
       "      <td>0.032981</td>\n",
       "      <td>4371c8c3</td>\n",
       "      <td>43.918874</td>\n",
       "      <td>NaN</td>\n",
       "      <td>0.032981</td>\n",
       "      <td>0.032981</td>\n",
       "      <td>1</td>\n",
       "      <td>0.032981</td>\n",
       "    </tr>\n",
       "  </tbody>\n",
       "</table>\n",
       "</div>"
      ],
      "text/plain": [
       "      ice_prob        id  inc_angle  is_iceberg     gmean   gmedian  gcount  \\\n",
       "1471  0.031928  5941774d  34.966400         NaN  0.007360  0.000011      13   \n",
       "1472  0.485113  4023181e  32.615072         NaN  0.485113  0.485113       1   \n",
       "1473  0.002311  b20200e4  37.505433         NaN  0.002311  0.002311       1   \n",
       "1474  0.999246  e7f018bb  34.473900         NaN  0.998011  0.998276       5   \n",
       "1475  0.032981  4371c8c3  43.918874         NaN  0.032981  0.032981       1   \n",
       "\n",
       "      KNN_prob  \n",
       "1471  0.007360  \n",
       "1472  0.485113  \n",
       "1473  0.002311  \n",
       "1474  0.998011  \n",
       "1475  0.032981  "
      ]
     },
     "execution_count": 23,
     "metadata": {},
     "output_type": "execute_result"
    }
   ],
   "source": [
    "test = data[data['is_iceberg'].isnull()]\n",
    "test.head()"
   ]
  },
  {
   "cell_type": "code",
   "execution_count": 24,
   "metadata": {},
   "outputs": [
    {
     "data": {
      "image/png": "[encoded data removed]",
      "text/plain": [
       "<matplotlib.figure.Figure at 0x259533170b8>"
      ]
     },
     "metadata": {},
     "output_type": "display_data"
    }
   ],
   "source": [
    "labels=['ice_prob', 'gmean', 'gmedian', 'gcount','KNN_prob']\n",
    "\n",
    "fig = plt.figure(figsize = (10,16))\n",
    "y_true = train['is_iceberg']\n",
    "n_ax = 1\n",
    "for label in labels:\n",
    "    fig.add_subplot(320+n_ax)\n",
    "    y_pred = train[label]\n",
    "    plot_roc(y_true,y_pred,label)\n",
    "    n_ax = n_ax + 1\n",
    "\n",
    "plt.show()"
   ]
  },
  {
   "cell_type": "code",
   "execution_count": 25,
   "metadata": {},
   "outputs": [
    {
     "data": {
      "image/png": "[encoded data removed]",
      "text/plain": [
       "<matplotlib.figure.Figure at 0x259532c8898>"
      ]
     },
     "metadata": {},
     "output_type": "display_data"
    }
   ],
   "source": [
    "def plot_dist(prob):\n",
    "    sns.distplot(prob,bins = 20)\n",
    "    \n",
    "labels=['ice_prob', 'gmean', 'gmedian','KNN_prob']\n",
    "fig = plt.figure(figsize = (10,10))\n",
    "n_ax = 1\n",
    "\n",
    "for label in labels:\n",
    "    fig.add_subplot(220+n_ax)\n",
    "    prob = train[label]\n",
    "    plot_dist(prob)\n",
    "    plt.ylim([0,8])\n",
    "    n_ax = n_ax + 1\n",
    "\n",
    "plt.show()"
   ]
  },
  {
   "cell_type": "code",
   "execution_count": 26,
   "metadata": {},
   "outputs": [
    {
     "name": "stdout",
     "output_type": "stream",
     "text": [
      "1471\n",
      "8424\n"
     ]
    }
   ],
   "source": [
    "a = train_angle_prob['id']\n",
    "b = train['id']\n",
    "b.index = a.index\n",
    "print(np.sum(a == b))\n",
    "a = test_angle_prob['id']\n",
    "b = test['id']\n",
    "b.index = a.index\n",
    "print(np.sum(a == b))"
   ]
  },
  {
   "cell_type": "code",
   "execution_count": 27,
   "metadata": {
    "collapsed": true
   },
   "outputs": [],
   "source": [
    "data.loc[data['KNN_prob']==0,'KNN_prob']=0.001\n",
    "data.loc[data['KNN_prob']==1,'KNN_prob']=0.999\n",
    "\n",
    "data.dropna().to_csv('new_features/new_features_add_precision_train_k43.csv',index = False)\n",
    "data[data['is_iceberg'].isnull()].to_csv('new_features/new_features_add_precision_test_k43.csv',index = False)"
   ]
  },
  {
   "cell_type": "code",
   "execution_count": null,
   "metadata": {
    "collapsed": true
   },
   "outputs": [],
   "source": []
  }
 ],
 "metadata": {
  "kernelspec": {
   "display_name": "Python 3",
   "language": "python",
   "name": "python3"
  },
  "language_info": {
   "codemirror_mode": {
    "name": "ipython",
    "version": 3
   },
   "file_extension": ".py",
   "mimetype": "text/x-python",
   "name": "python",
   "nbconvert_exporter": "python",
   "pygments_lexer": "ipython3",
   "version": "3.6.3"
  }
 },
 "nbformat": 4,
 "nbformat_minor": 2
}
