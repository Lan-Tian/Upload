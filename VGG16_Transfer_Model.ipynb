{
 "cells": [
  {
   "cell_type": "markdown",
   "metadata": {},
   "source": [
    "### Objective\n",
    "In this notebook, we are going to use the famous VGG-16 as a feature extraction vehicle and combine the extracted features and the inc_angle feature to form a new network to make predictions. The performance will impove to about 0.2.  \n",
    "This notebook is largely due to the great job of [Devesh Maheshwari](https://www.kaggle.com/devm2024/transfer-learning-with-vgg-16-cnn-aug-lb-0-1712)."
   ]
  },
  {
   "cell_type": "code",
   "execution_count": 1,
   "metadata": {
    "collapsed": true
   },
   "outputs": [],
   "source": [
    "import numpy as np\n",
    "import pandas as pd"
   ]
  },
  {
   "cell_type": "code",
   "execution_count": 2,
   "metadata": {},
   "outputs": [
    {
     "name": "stdout",
     "output_type": "stream",
     "text": [
      "5.622074365615845\n"
     ]
    }
   ],
   "source": [
    "from time import time\n",
    "t0 = time()\n",
    "train = pd.read_json('../Input/train.json')\n",
    "target_train = train['is_iceberg']\n",
    "print(time() - t0)"
   ]
  },
  {
   "cell_type": "code",
   "execution_count": 26,
   "metadata": {},
   "outputs": [
    {
     "data": {
      "text/plain": [
       "(1604, 75, 75)"
      ]
     },
     "execution_count": 26,
     "metadata": {},
     "output_type": "execute_result"
    }
   ],
   "source": [
    "X_band_1=np.array([np.array(band).astype(np.float32).reshape(75, 75) for band in train[\"band_1\"]])\n",
    "X_band_2=np.array([np.array(band).astype(np.float32).reshape(75, 75) for band in train[\"band_2\"]])\n",
    "X_band_3=(X_band_1+X_band_2)/2\n",
    "X_band_1.shape"
   ]
  },
  {
   "cell_type": "markdown",
   "metadata": {},
   "source": [
    "#### Create an input\n",
    "We should cancatenate the ban1, band2 and (band1+band2)/2 to form the regular input we need to feed into VGG.The shape of the training array is **(1604, 75, 75, 3)**, 1604 samples of $75\\times 75 \\times 3$ figures."
   ]
  },
  {
   "cell_type": "code",
   "execution_count": 22,
   "metadata": {},
   "outputs": [
    {
     "data": {
      "text/plain": [
       "(1604, 75, 75, 3)"
      ]
     },
     "execution_count": 22,
     "metadata": {},
     "output_type": "execute_result"
    }
   ],
   "source": [
    "X_train = np.concatenate([X_band_1[:, :, :, np.newaxis]\n",
    "                          , X_band_2[:, :, :, np.newaxis]\n",
    "                         , X_band_3[:, :, :, np.newaxis]], axis=-1)\n",
    "X_train.shape"
   ]
  },
  {
   "cell_type": "code",
   "execution_count": 23,
   "metadata": {},
   "outputs": [
    {
     "data": {
      "text/plain": [
       "(1604,)"
      ]
     },
     "execution_count": 23,
     "metadata": {},
     "output_type": "execute_result"
    }
   ],
   "source": [
    "train['inc_angle']=pd.to_numeric(train['inc_angle'], errors='coerce')#We have only 133 NAs.\n",
    "train['inc_angle']=train['inc_angle'].fillna(method='pad')\n",
    "X_angle=train['inc_angle']\n",
    "X_angle.shape"
   ]
  },
  {
   "cell_type": "code",
   "execution_count": 10,
   "metadata": {
    "collapsed": true
   },
   "outputs": [],
   "source": [
    "test = pd.read_json(\"../Input/test.json\")\n",
    "test['inc_angle']=pd.to_numeric(test['inc_angle'], errors='coerce')\n",
    "test['inc_angle']=pd.to_numeric(test['inc_angle'], errors='coerce')\n",
    "X_test_angle=test['inc_angle']"
   ]
  },
  {
   "cell_type": "code",
   "execution_count": 11,
   "metadata": {
    "collapsed": true
   },
   "outputs": [],
   "source": [
    "X_band_test_1=np.array([np.array(band).astype(np.float32).reshape(75, 75) for band in test[\"band_1\"]])\n",
    "X_band_test_2=np.array([np.array(band).astype(np.float32).reshape(75, 75) for band in test[\"band_2\"]])\n",
    "X_band_test_3=(X_band_test_1+X_band_test_2)/2\n",
    "X_test = np.concatenate([X_band_test_1[:, :, :, np.newaxis]\n",
    "                          , X_band_test_2[:, :, :, np.newaxis]\n",
    "                         , X_band_test_3[:, :, :, np.newaxis]], axis=-1)"
   ]
  },
  {
   "cell_type": "code",
   "execution_count": 12,
   "metadata": {},
   "outputs": [
    {
     "name": "stderr",
     "output_type": "stream",
     "text": [
      "d:\\anaconda3\\lib\\site-packages\\h5py\\__init__.py:34: FutureWarning: Conversion of the second argument of issubdtype from `float` to `np.floating` is deprecated. In future, it will be treated as `np.float64 == np.dtype(float).type`.\n",
      "  from ._conv import register_converters as _register_converters\n",
      "Using TensorFlow backend.\n"
     ]
    }
   ],
   "source": [
    "#Import Keras\n",
    "import matplotlib.pyplot as plt\n",
    "from keras.optimizers import RMSprop\n",
    "from keras.preprocessing.image import ImageDataGenerator\n",
    "from keras.models import Sequential\n",
    "from keras.layers import Conv2D, MaxPooling2D, Dense, Dropout, Input, Flatten, Activation\n",
    "from keras.layers import GlobalMaxPooling2D\n",
    "from keras.layers.normalization import BatchNormalization\n",
    "from keras.layers.merge import Concatenate\n",
    "from keras.models import Model\n",
    "from keras import initializers\n",
    "from keras.optimizers import Adam\n",
    "from keras.optimizers import rmsprop\n",
    "from keras.layers.advanced_activations import LeakyReLU, PReLU\n",
    "from keras.optimizers import SGD\n",
    "from keras.callbacks import ModelCheckpoint, Callback, EarlyStopping\n",
    "\n",
    "from keras.datasets import cifar10\n",
    "from keras.applications.inception_v3 import InceptionV3\n",
    "from keras.applications.vgg16 import VGG16\n",
    "from keras.applications.xception import Xception\n",
    "from keras.applications.mobilenet import MobileNet\n",
    "from keras.applications.vgg19 import VGG19\n",
    "from keras.layers import Concatenate, Dense, LSTM, Input, concatenate\n",
    "from keras.preprocessing import image\n",
    "from keras.applications.vgg16 import preprocess_input"
   ]
  },
  {
   "cell_type": "markdown",
   "metadata": {},
   "source": [
    "#### Import the need cross-validation sklearn modules \n",
    "We use the K-fold Stratified cross validation methods."
   ]
  },
  {
   "cell_type": "code",
   "execution_count": 19,
   "metadata": {
    "collapsed": true
   },
   "outputs": [],
   "source": [
    "from sklearn.model_selection import train_test_split\n",
    "from sklearn.metrics import log_loss\n",
    "from sklearn.model_selection import StratifiedKFold, StratifiedShuffleSplit\n",
    "from os.path import join as opj"
   ]
  },
  {
   "cell_type": "code",
   "execution_count": 13,
   "metadata": {
    "collapsed": true
   },
   "outputs": [],
   "source": [
    "#Data Aug for multi-input\n",
    "from keras.preprocessing.image import ImageDataGenerator\n",
    "batch_size=64\n",
    "# Define the image transformations here\n",
    "gen = ImageDataGenerator(horizontal_flip = True,\n",
    "                         vertical_flip = True,\n",
    "                         width_shift_range = 0.,\n",
    "                         height_shift_range = 0.,\n",
    "                         channel_shift_range=0,\n",
    "                         zoom_range = 0.2,\n",
    "                         rotation_range = 10)"
   ]
  },
  {
   "cell_type": "code",
   "execution_count": 14,
   "metadata": {
    "collapsed": true
   },
   "outputs": [],
   "source": [
    "# Here is the function that merges our two generators\n",
    "# We use the exact same generator with the same random seed for both the y and angle arrays\n",
    "def gen_flow_for_two_inputs(X1, X2, y):\n",
    "    genX1 = gen.flow(X1,y,  batch_size=batch_size,seed=55)\n",
    "    genX2 = gen.flow(X1,X2, batch_size=batch_size,seed=55)\n",
    "    while True:\n",
    "            X1i = genX1.next()\n",
    "            X2i = genX2.next()\n",
    "            #Assert arrays are equal - this was for peace of mind, but slows down training\n",
    "            #np.testing.assert_array_equal(X1i[0],X2i[0])\n",
    "            yield [X1i[0], X2i[1]], X1i[1]"
   ]
  },
  {
   "cell_type": "code",
   "execution_count": 15,
   "metadata": {
    "collapsed": true
   },
   "outputs": [],
   "source": [
    "# Finally create generator\n",
    "def get_callbacks(filepath, patience=2):\n",
    "    es = EarlyStopping('val_loss', patience=10, mode=\"min\")\n",
    "    msave = ModelCheckpoint(filepath, save_best_only=True)\n",
    "    return [es, msave]"
   ]
  },
  {
   "cell_type": "markdown",
   "metadata": {},
   "source": [
    "#### Build the Model (SGD)\n",
    "We build the model in the following steps:\n",
    "- Download the pre-trained VGG-16 on 'ImageNet', clip the top 3 dense layers and set the input size to (75,75,3)\n",
    "- Concatenate the output with the angle_layer to form an input for the next layer.\n",
    "- Build a 3 layer dense networks to build the classifier.\n",
    "- Compile the model, using the SGD algorithm."
   ]
  },
  {
   "cell_type": "code",
   "execution_count": 16,
   "metadata": {
    "collapsed": true
   },
   "outputs": [],
   "source": [
    "def getVggAngleModel():\n",
    "    input_2 = Input(shape=[1], name=\"angle\")\n",
    "    angle_layer = Dense(1, )(input_2)\n",
    "    base_model = VGG16(weights='imagenet', include_top=False, \n",
    "                 input_shape=X_train.shape[1:], classes=1)\n",
    "    x = base_model.get_layer('block5_pool').output\n",
    "    \n",
    "\n",
    "    x = GlobalMaxPooling2D()(x)\n",
    "    merge_one = concatenate([x, angle_layer])\n",
    "    merge_one = Dense(512, activation='relu', name='fc2')(merge_one)\n",
    "    merge_one = Dropout(0.3)(merge_one)\n",
    "    merge_one = Dense(512, activation='relu', name='fc3')(merge_one)\n",
    "    merge_one = Dropout(0.3)(merge_one)\n",
    "    \n",
    "    predictions = Dense(1, activation='sigmoid')(merge_one)\n",
    "    \n",
    "    model = Model(input=[base_model.input, input_2], output=predictions)\n",
    "    \n",
    "    sgd = SGD(lr=1e-3, decay=1e-6, momentum=0.9, nesterov=True)\n",
    "    model.compile(loss='binary_crossentropy',\n",
    "                  optimizer=sgd,\n",
    "                  metrics=['accuracy'])\n",
    "    return model"
   ]
  },
  {
   "cell_type": "markdown",
   "metadata": {},
   "source": [
    "It takes **7898.026287317276s** to train the model."
   ]
  },
  {
   "cell_type": "markdown",
   "metadata": {},
   "source": [
    "### Train the model using cross validation\n",
    "For more information about VGG model, see the great work of [Karen Simonyan & Andrew Zisserman](https://arxiv.org/pdf/1409.1556.pdf)"
   ]
  },
  {
   "cell_type": "code",
   "execution_count": 17,
   "metadata": {
    "collapsed": true
   },
   "outputs": [],
   "source": [
    "def myAngleCV(X_train, X_angle, X_test):\n",
    "    K=3\n",
    "    folds = list(StratifiedKFold(n_splits=K, shuffle=True, random_state=16).split(X_train, target_train))\n",
    "    y_test_pred_log = 0\n",
    "    y_train_pred_log=0\n",
    "    y_valid_pred_log = 0.0*target_train\n",
    "    for j, (train_idx, test_idx) in enumerate(folds):\n",
    "        print('\\n===================FOLD=',j)\n",
    "        X_train_cv = X_train[train_idx]\n",
    "        y_train_cv = target_train[train_idx]\n",
    "        X_holdout = X_train[test_idx]\n",
    "        Y_holdout= target_train[test_idx]\n",
    "        \n",
    "        #Angle\n",
    "        X_angle_cv=X_angle[train_idx]\n",
    "        X_angle_hold=X_angle[test_idx]\n",
    "\n",
    "        #define file path and get callbacks\n",
    "        file_path = \"%s_aug_model_weights.hdf5\"%j\n",
    "        callbacks = get_callbacks(filepath=file_path, patience=5)\n",
    "        gen_flow = gen_flow_for_two_inputs(X_train_cv, X_angle_cv, y_train_cv)\n",
    "        galaxyModel= getVggAngleModel()\n",
    "        galaxyModel.fit_generator(\n",
    "                gen_flow,\n",
    "                steps_per_epoch=24,\n",
    "                epochs=100,\n",
    "                shuffle=True,\n",
    "                verbose=1,\n",
    "                validation_data=([X_holdout,X_angle_hold], Y_holdout),\n",
    "                callbacks=callbacks)\n",
    "\n",
    "        #Getting the Best Model\n",
    "        galaxyModel.load_weights(filepath=file_path)\n",
    "        #Getting Training Score\n",
    "        score = galaxyModel.evaluate([X_train_cv,X_angle_cv], y_train_cv, verbose=0)\n",
    "        print('Train loss:', score[0])\n",
    "        print('Train accuracy:', score[1])\n",
    "        #Getting Test Score\n",
    "        score = galaxyModel.evaluate([X_holdout,X_angle_hold], Y_holdout, verbose=0)\n",
    "        print('Test loss:', score[0])\n",
    "        print('Test accuracy:', score[1])\n",
    "\n",
    "        #Getting validation Score.\n",
    "        pred_valid=galaxyModel.predict([X_holdout,X_angle_hold])\n",
    "        y_valid_pred_log[test_idx] = pred_valid.reshape(pred_valid.shape[0])\n",
    "\n",
    "        #Getting Test Scores\n",
    "        temp_test=galaxyModel.predict([X_test, X_test_angle])\n",
    "        y_test_pred_log+=temp_test.reshape(temp_test.shape[0])\n",
    "\n",
    "        #Getting Train Scores\n",
    "        temp_train=galaxyModel.predict([X_train, X_angle])\n",
    "        y_train_pred_log+=temp_train.reshape(temp_train.shape[0])\n",
    "\n",
    "    y_test_pred_log=y_test_pred_log/K\n",
    "    y_train_pred_log=y_train_pred_log/K\n",
    "\n",
    "    print('\\n Train Log Loss Validation= ',log_loss(target_train, y_train_pred_log))\n",
    "    print(' Test Log Loss Validation= ',log_loss(target_train, y_valid_pred_log))\n",
    "    return y_test_pred_log"
   ]
  },
  {
   "cell_type": "code",
   "execution_count": 20,
   "metadata": {},
   "outputs": [
    {
     "name": "stdout",
     "output_type": "stream",
     "text": [
      "\n",
      "===================FOLD= 0\n",
      "Downloading data from https://github.com/fchollet/deep-learning-models/releases/download/v0.1/vgg16_weights_tf_dim_ordering_tf_kernels_notop.h5\n",
      "58892288/58889256 [==============================] - 194s 3us/step\n",
      "WARNING:tensorflow:From d:\\anaconda3\\lib\\site-packages\\keras\\backend\\tensorflow_backend.py:1213: calling reduce_max (from tensorflow.python.ops.math_ops) with keep_dims is deprecated and will be removed in a future version.\n",
      "Instructions for updating:\n",
      "keep_dims is deprecated, use keepdims instead\n",
      "WARNING:tensorflow:From d:\\anaconda3\\lib\\site-packages\\keras\\backend\\tensorflow_backend.py:1349: calling reduce_mean (from tensorflow.python.ops.math_ops) with keep_dims is deprecated and will be removed in a future version.\n",
      "Instructions for updating:\n",
      "keep_dims is deprecated, use keepdims instead\n"
     ]
    },
    {
     "name": "stderr",
     "output_type": "stream",
     "text": [
      "d:\\anaconda3\\lib\\site-packages\\ipykernel_launcher.py:18: UserWarning: Update your `Model` call to the Keras 2 API: `Model(inputs=[<tf.Tenso..., outputs=Tensor(\"de...)`\n"
     ]
    },
    {
     "name": "stdout",
     "output_type": "stream",
     "text": [
      "WARNING:tensorflow:Variable *= will be deprecated. Use variable.assign_mul if you want assignment to the variable value or 'x = x * y' if you want a new python Tensor object.\n",
      "Epoch 1/100\n",
      "24/24 [==============================] - 112s 5s/step - loss: 0.8216 - acc: 0.6134 - val_loss: 0.4229 - val_acc: 0.7907\n",
      "Epoch 2/100\n",
      "24/24 [==============================] - 66s 3s/step - loss: 0.4586 - acc: 0.7859 - val_loss: 0.2695 - val_acc: 0.8822\n",
      "Epoch 3/100\n",
      "24/24 [==============================] - 65s 3s/step - loss: 0.3966 - acc: 0.8256 - val_loss: 0.2647 - val_acc: 0.8673\n",
      "Epoch 4/100\n",
      "24/24 [==============================] - 65s 3s/step - loss: 0.3279 - acc: 0.8568 - val_loss: 0.2443 - val_acc: 0.8804\n",
      "Epoch 5/100\n",
      "24/24 [==============================] - 64s 3s/step - loss: 0.2989 - acc: 0.8653 - val_loss: 0.3095 - val_acc: 0.8654\n",
      "Epoch 6/100\n",
      "24/24 [==============================] - 65s 3s/step - loss: 0.2714 - acc: 0.8773 - val_loss: 0.2460 - val_acc: 0.8972\n",
      "Epoch 7/100\n",
      "24/24 [==============================] - 65s 3s/step - loss: 0.2616 - acc: 0.8929 - val_loss: 0.2371 - val_acc: 0.8953\n",
      "Epoch 8/100\n",
      "24/24 [==============================] - 65s 3s/step - loss: 0.2502 - acc: 0.8936 - val_loss: 0.2271 - val_acc: 0.9065\n",
      "Epoch 9/100\n",
      "24/24 [==============================] - 65s 3s/step - loss: 0.2749 - acc: 0.8848 - val_loss: 0.1987 - val_acc: 0.9140\n",
      "Epoch 10/100\n",
      "24/24 [==============================] - 64s 3s/step - loss: 0.2226 - acc: 0.9053 - val_loss: 0.2038 - val_acc: 0.9121\n",
      "Epoch 11/100\n",
      "24/24 [==============================] - 65s 3s/step - loss: 0.2062 - acc: 0.9170 - val_loss: 0.2314 - val_acc: 0.8972\n",
      "Epoch 12/100\n",
      "24/24 [==============================] - 65s 3s/step - loss: 0.2186 - acc: 0.9097 - val_loss: 0.2043 - val_acc: 0.9215\n",
      "Epoch 13/100\n",
      "24/24 [==============================] - 64s 3s/step - loss: 0.2173 - acc: 0.9102 - val_loss: 0.2023 - val_acc: 0.9159\n",
      "Epoch 14/100\n",
      "24/24 [==============================] - 65s 3s/step - loss: 0.2085 - acc: 0.9126 - val_loss: 0.1864 - val_acc: 0.9215\n",
      "Epoch 15/100\n",
      "24/24 [==============================] - 64s 3s/step - loss: 0.1980 - acc: 0.9124 - val_loss: 0.1953 - val_acc: 0.9196\n",
      "Epoch 16/100\n",
      "24/24 [==============================] - 65s 3s/step - loss: 0.1796 - acc: 0.9251 - val_loss: 0.2143 - val_acc: 0.9178\n",
      "Epoch 17/100\n",
      "24/24 [==============================] - 68s 3s/step - loss: 0.1748 - acc: 0.9235 - val_loss: 0.2169 - val_acc: 0.9065\n",
      "Epoch 18/100\n",
      "24/24 [==============================] - 65s 3s/step - loss: 0.1875 - acc: 0.9187 - val_loss: 0.2196 - val_acc: 0.8991\n",
      "Epoch 19/100\n",
      "24/24 [==============================] - 65s 3s/step - loss: 0.1870 - acc: 0.9259 - val_loss: 0.2038 - val_acc: 0.9084\n",
      "Epoch 20/100\n",
      "24/24 [==============================] - 64s 3s/step - loss: 0.1587 - acc: 0.9301 - val_loss: 0.2054 - val_acc: 0.9196\n",
      "Epoch 21/100\n",
      "24/24 [==============================] - 65s 3s/step - loss: 0.1688 - acc: 0.9295 - val_loss: 0.2334 - val_acc: 0.9084\n",
      "Epoch 22/100\n",
      "24/24 [==============================] - 64s 3s/step - loss: 0.1610 - acc: 0.9377 - val_loss: 0.2066 - val_acc: 0.9121\n",
      "Epoch 23/100\n",
      "24/24 [==============================] - 65s 3s/step - loss: 0.1430 - acc: 0.9445 - val_loss: 0.2011 - val_acc: 0.9234\n",
      "Epoch 24/100\n",
      "24/24 [==============================] - 65s 3s/step - loss: 0.1608 - acc: 0.9320 - val_loss: 0.2162 - val_acc: 0.9159\n",
      "Train loss: 0.15009959104799356\n",
      "Train accuracy: 0.9429373246024322\n",
      "Test loss: 0.1864287012091307\n",
      "Test accuracy: 0.9214953279940882\n",
      "\n",
      "===================FOLD= 1\n",
      "Epoch 1/100\n",
      "24/24 [==============================] - 72s 3s/step - loss: 0.6962 - acc: 0.6202 - val_loss: 0.4333 - val_acc: 0.8000\n",
      "Epoch 2/100\n",
      "24/24 [==============================] - 65s 3s/step - loss: 0.4497 - acc: 0.7743 - val_loss: 0.3689 - val_acc: 0.8393\n",
      "Epoch 3/100\n",
      "24/24 [==============================] - 65s 3s/step - loss: 0.3432 - acc: 0.8301 - val_loss: 0.2517 - val_acc: 0.8729\n",
      "Epoch 4/100\n",
      "24/24 [==============================] - 65s 3s/step - loss: 0.3202 - acc: 0.8605 - val_loss: 0.2856 - val_acc: 0.8486\n",
      "Epoch 5/100\n",
      "24/24 [==============================] - 65s 3s/step - loss: 0.2958 - acc: 0.8574 - val_loss: 0.2352 - val_acc: 0.8972\n",
      "Epoch 6/100\n",
      "24/24 [==============================] - 65s 3s/step - loss: 0.2687 - acc: 0.8806 - val_loss: 0.2085 - val_acc: 0.9215\n",
      "Epoch 7/100\n",
      "24/24 [==============================] - 65s 3s/step - loss: 0.2695 - acc: 0.8846 - val_loss: 0.2319 - val_acc: 0.9047\n",
      "Epoch 8/100\n",
      "24/24 [==============================] - 64s 3s/step - loss: 0.2489 - acc: 0.8838 - val_loss: 0.2104 - val_acc: 0.9084\n",
      "Epoch 9/100\n",
      "24/24 [==============================] - 65s 3s/step - loss: 0.2411 - acc: 0.8941 - val_loss: 0.1907 - val_acc: 0.9178\n",
      "Epoch 10/100\n",
      "24/24 [==============================] - 64s 3s/step - loss: 0.2611 - acc: 0.8889 - val_loss: 0.2326 - val_acc: 0.8972\n",
      "Epoch 11/100\n",
      "24/24 [==============================] - 65s 3s/step - loss: 0.2429 - acc: 0.9007 - val_loss: 0.2001 - val_acc: 0.9178\n",
      "Epoch 12/100\n",
      "24/24 [==============================] - 65s 3s/step - loss: 0.2121 - acc: 0.9141 - val_loss: 0.2179 - val_acc: 0.9159\n",
      "Epoch 13/100\n",
      "24/24 [==============================] - 64s 3s/step - loss: 0.1873 - acc: 0.9218 - val_loss: 0.2038 - val_acc: 0.9103\n",
      "Epoch 14/100\n",
      "24/24 [==============================] - 65s 3s/step - loss: 0.2047 - acc: 0.9130 - val_loss: 0.2094 - val_acc: 0.9065\n",
      "Epoch 15/100\n",
      "24/24 [==============================] - 65s 3s/step - loss: 0.2097 - acc: 0.9088 - val_loss: 0.1863 - val_acc: 0.9252\n",
      "Epoch 16/100\n",
      "24/24 [==============================] - 65s 3s/step - loss: 0.1836 - acc: 0.9246 - val_loss: 0.2146 - val_acc: 0.9047\n",
      "Epoch 17/100\n",
      "24/24 [==============================] - 65s 3s/step - loss: 0.1927 - acc: 0.9157 - val_loss: 0.1763 - val_acc: 0.9234\n",
      "Epoch 18/100\n",
      "24/24 [==============================] - 65s 3s/step - loss: 0.1849 - acc: 0.9189 - val_loss: 0.1800 - val_acc: 0.9215\n",
      "Epoch 19/100\n",
      "24/24 [==============================] - 65s 3s/step - loss: 0.1980 - acc: 0.9038 - val_loss: 0.1949 - val_acc: 0.9196\n",
      "Epoch 20/100\n",
      "24/24 [==============================] - 64s 3s/step - loss: 0.1764 - acc: 0.9194 - val_loss: 0.2062 - val_acc: 0.9121\n",
      "Epoch 21/100\n",
      "24/24 [==============================] - 65s 3s/step - loss: 0.1804 - acc: 0.9269 - val_loss: 0.1774 - val_acc: 0.9308\n",
      "Epoch 22/100\n",
      "24/24 [==============================] - 64s 3s/step - loss: 0.1690 - acc: 0.9335 - val_loss: 0.2669 - val_acc: 0.8710\n",
      "Epoch 23/100\n",
      "24/24 [==============================] - 65s 3s/step - loss: 0.1724 - acc: 0.9324 - val_loss: 0.1868 - val_acc: 0.9196\n",
      "Epoch 24/100\n",
      "24/24 [==============================] - 65s 3s/step - loss: 0.1432 - acc: 0.9433 - val_loss: 0.1985 - val_acc: 0.9215\n",
      "Epoch 25/100\n",
      "24/24 [==============================] - 64s 3s/step - loss: 0.1456 - acc: 0.9432 - val_loss: 0.2059 - val_acc: 0.9121\n",
      "Epoch 26/100\n",
      "24/24 [==============================] - 65s 3s/step - loss: 0.1647 - acc: 0.9303 - val_loss: 0.1935 - val_acc: 0.9196\n",
      "Epoch 27/100\n",
      "24/24 [==============================] - 65s 3s/step - loss: 0.1506 - acc: 0.9385 - val_loss: 0.1743 - val_acc: 0.9290\n",
      "Epoch 28/100\n",
      "24/24 [==============================] - 65s 3s/step - loss: 0.1455 - acc: 0.9402 - val_loss: 0.1875 - val_acc: 0.9308\n",
      "Epoch 29/100\n",
      "24/24 [==============================] - 65s 3s/step - loss: 0.1355 - acc: 0.9438 - val_loss: 0.2479 - val_acc: 0.9028\n",
      "Epoch 30/100\n",
      "24/24 [==============================] - 64s 3s/step - loss: 0.1283 - acc: 0.9492 - val_loss: 0.2202 - val_acc: 0.9196\n",
      "Epoch 31/100\n",
      "24/24 [==============================] - 65s 3s/step - loss: 0.1681 - acc: 0.9295 - val_loss: 0.1965 - val_acc: 0.9196\n",
      "Epoch 32/100\n",
      "24/24 [==============================] - 64s 3s/step - loss: 0.1323 - acc: 0.9456 - val_loss: 0.2538 - val_acc: 0.9009\n",
      "Epoch 33/100\n",
      "24/24 [==============================] - 65s 3s/step - loss: 0.1239 - acc: 0.9540 - val_loss: 0.1734 - val_acc: 0.9290\n",
      "Epoch 34/100\n",
      "24/24 [==============================] - 65s 3s/step - loss: 0.1402 - acc: 0.9407 - val_loss: 0.2466 - val_acc: 0.9009\n",
      "Epoch 35/100\n",
      "24/24 [==============================] - 65s 3s/step - loss: 0.1468 - acc: 0.9402 - val_loss: 0.2013 - val_acc: 0.9159\n",
      "Epoch 36/100\n",
      "24/24 [==============================] - 65s 3s/step - loss: 0.1258 - acc: 0.9445 - val_loss: 0.1934 - val_acc: 0.9308\n",
      "Epoch 37/100\n",
      "24/24 [==============================] - 64s 3s/step - loss: 0.1179 - acc: 0.9537 - val_loss: 0.2613 - val_acc: 0.8991\n",
      "Epoch 38/100\n",
      "24/24 [==============================] - 65s 3s/step - loss: 0.1333 - acc: 0.9502 - val_loss: 0.1916 - val_acc: 0.9215\n",
      "Epoch 39/100\n",
      "24/24 [==============================] - 64s 3s/step - loss: 0.1177 - acc: 0.9507 - val_loss: 0.2003 - val_acc: 0.9252\n",
      "Epoch 40/100\n",
      "24/24 [==============================] - 65s 3s/step - loss: 0.1099 - acc: 0.9543 - val_loss: 0.2119 - val_acc: 0.9159\n",
      "Epoch 41/100\n",
      "24/24 [==============================] - 65s 3s/step - loss: 0.0965 - acc: 0.9633 - val_loss: 0.2320 - val_acc: 0.9178\n",
      "Epoch 42/100\n",
      "24/24 [==============================] - 64s 3s/step - loss: 0.1239 - acc: 0.9550 - val_loss: 0.2761 - val_acc: 0.9047\n",
      "Epoch 43/100\n",
      "24/24 [==============================] - 65s 3s/step - loss: 0.1261 - acc: 0.9462 - val_loss: 0.2325 - val_acc: 0.9196\n",
      "Train loss: 0.072858715079676\n",
      "Train accuracy: 0.9747427502338635\n",
      "Test loss: 0.17335234841453695\n",
      "Test accuracy: 0.9289719618369485\n",
      "\n",
      "===================FOLD= 2\n",
      "Epoch 1/100\n",
      "24/24 [==============================] - 86s 4s/step - loss: 0.7575 - acc: 0.6343 - val_loss: 0.4397 - val_acc: 0.7790\n",
      "Epoch 2/100\n",
      "24/24 [==============================] - 65s 3s/step - loss: 0.4697 - acc: 0.7866 - val_loss: 0.3637 - val_acc: 0.8146\n",
      "Epoch 3/100\n",
      "24/24 [==============================] - 65s 3s/step - loss: 0.3075 - acc: 0.8653 - val_loss: 0.3214 - val_acc: 0.8464\n",
      "Epoch 4/100\n",
      "24/24 [==============================] - 65s 3s/step - loss: 0.2840 - acc: 0.8763 - val_loss: 0.3279 - val_acc: 0.8483\n",
      "Epoch 5/100\n",
      "24/24 [==============================] - 64s 3s/step - loss: 0.2619 - acc: 0.8846 - val_loss: 0.3504 - val_acc: 0.8464\n",
      "Epoch 6/100\n",
      "24/24 [==============================] - 65s 3s/step - loss: 0.2452 - acc: 0.8930 - val_loss: 0.2984 - val_acc: 0.8558\n",
      "Epoch 7/100\n",
      "24/24 [==============================] - 65s 3s/step - loss: 0.2516 - acc: 0.8985 - val_loss: 0.3024 - val_acc: 0.8652\n",
      "Epoch 8/100\n",
      "24/24 [==============================] - 65s 3s/step - loss: 0.2357 - acc: 0.8941 - val_loss: 0.2942 - val_acc: 0.8858\n",
      "Epoch 9/100\n",
      "24/24 [==============================] - 65s 3s/step - loss: 0.2068 - acc: 0.9157 - val_loss: 0.2852 - val_acc: 0.8764\n",
      "Epoch 10/100\n",
      "24/24 [==============================] - 65s 3s/step - loss: 0.2019 - acc: 0.9169 - val_loss: 0.2850 - val_acc: 0.8895\n",
      "Epoch 11/100\n",
      "24/24 [==============================] - 65s 3s/step - loss: 0.2040 - acc: 0.9178 - val_loss: 0.2747 - val_acc: 0.8970\n",
      "Epoch 12/100\n",
      "24/24 [==============================] - 65s 3s/step - loss: 0.2025 - acc: 0.9121 - val_loss: 0.2615 - val_acc: 0.9045\n",
      "Epoch 13/100\n",
      "24/24 [==============================] - 64s 3s/step - loss: 0.1830 - acc: 0.9238 - val_loss: 0.2745 - val_acc: 0.8970\n",
      "Epoch 14/100\n",
      "24/24 [==============================] - 65s 3s/step - loss: 0.1974 - acc: 0.9272 - val_loss: 0.2672 - val_acc: 0.8895\n",
      "Epoch 15/100\n",
      "24/24 [==============================] - 64s 3s/step - loss: 0.1856 - acc: 0.9261 - val_loss: 0.2728 - val_acc: 0.8895\n",
      "Epoch 16/100\n",
      "24/24 [==============================] - 65s 3s/step - loss: 0.1634 - acc: 0.9331 - val_loss: 0.2899 - val_acc: 0.8951\n",
      "Epoch 17/100\n",
      "24/24 [==============================] - 67s 3s/step - loss: 0.1709 - acc: 0.9289 - val_loss: 0.2708 - val_acc: 0.8989\n",
      "Epoch 18/100\n",
      "24/24 [==============================] - 65s 3s/step - loss: 0.1607 - acc: 0.9415 - val_loss: 0.2618 - val_acc: 0.9007\n",
      "Epoch 19/100\n",
      "24/24 [==============================] - 65s 3s/step - loss: 0.1761 - acc: 0.9280 - val_loss: 0.2592 - val_acc: 0.9101\n",
      "Epoch 20/100\n",
      "24/24 [==============================] - 65s 3s/step - loss: 0.1704 - acc: 0.9282 - val_loss: 0.2427 - val_acc: 0.9007\n",
      "Epoch 21/100\n",
      "24/24 [==============================] - 65s 3s/step - loss: 0.1424 - acc: 0.9478 - val_loss: 0.3669 - val_acc: 0.8596\n",
      "Epoch 22/100\n",
      "24/24 [==============================] - 64s 3s/step - loss: 0.1817 - acc: 0.9188 - val_loss: 0.2976 - val_acc: 0.8914\n",
      "Epoch 23/100\n",
      "24/24 [==============================] - 65s 3s/step - loss: 0.1463 - acc: 0.9386 - val_loss: 0.2727 - val_acc: 0.9064\n",
      "Epoch 24/100\n",
      "24/24 [==============================] - 65s 3s/step - loss: 0.1406 - acc: 0.9463 - val_loss: 0.2643 - val_acc: 0.8970\n",
      "Epoch 25/100\n",
      "24/24 [==============================] - 64s 3s/step - loss: 0.1435 - acc: 0.9444 - val_loss: 0.3461 - val_acc: 0.8933\n",
      "Epoch 26/100\n",
      "24/24 [==============================] - 65s 3s/step - loss: 0.1497 - acc: 0.9396 - val_loss: 0.2534 - val_acc: 0.8951\n",
      "Epoch 27/100\n",
      "24/24 [==============================] - 64s 3s/step - loss: 0.1306 - acc: 0.9460 - val_loss: 0.2913 - val_acc: 0.8914\n",
      "Epoch 28/100\n",
      "24/24 [==============================] - 65s 3s/step - loss: 0.1305 - acc: 0.9472 - val_loss: 0.2484 - val_acc: 0.9101\n",
      "Epoch 29/100\n",
      "24/24 [==============================] - 65s 3s/step - loss: 0.1063 - acc: 0.9591 - val_loss: 0.2534 - val_acc: 0.8989\n",
      "Epoch 30/100\n",
      "24/24 [==============================] - 65s 3s/step - loss: 0.1387 - acc: 0.9408 - val_loss: 0.2362 - val_acc: 0.9120\n",
      "Epoch 31/100\n",
      "24/24 [==============================] - 65s 3s/step - loss: 0.1147 - acc: 0.9535 - val_loss: 0.3629 - val_acc: 0.8914\n",
      "Epoch 32/100\n",
      "24/24 [==============================] - 64s 3s/step - loss: 0.1243 - acc: 0.9511 - val_loss: 0.3230 - val_acc: 0.8895\n",
      "Epoch 33/100\n",
      "24/24 [==============================] - 65s 3s/step - loss: 0.1108 - acc: 0.9547 - val_loss: 0.2886 - val_acc: 0.8876\n",
      "Epoch 34/100\n",
      "24/24 [==============================] - 65s 3s/step - loss: 0.1193 - acc: 0.9549 - val_loss: 0.3891 - val_acc: 0.8764\n",
      "Epoch 35/100\n",
      "24/24 [==============================] - 65s 3s/step - loss: 0.1062 - acc: 0.9555 - val_loss: 0.2615 - val_acc: 0.9045\n",
      "Epoch 36/100\n",
      "24/24 [==============================] - 65s 3s/step - loss: 0.1026 - acc: 0.9634 - val_loss: 0.2961 - val_acc: 0.8933\n",
      "Epoch 37/100\n",
      "24/24 [==============================] - 64s 3s/step - loss: 0.0905 - acc: 0.9650 - val_loss: 0.3202 - val_acc: 0.8876\n",
      "Epoch 38/100\n",
      "24/24 [==============================] - 65s 3s/step - loss: 0.0995 - acc: 0.9648 - val_loss: 0.3138 - val_acc: 0.8933\n",
      "Epoch 39/100\n",
      "24/24 [==============================] - 64s 3s/step - loss: 0.0914 - acc: 0.9615 - val_loss: 0.3170 - val_acc: 0.9026\n",
      "Epoch 40/100\n",
      "24/24 [==============================] - 65s 3s/step - loss: 0.0787 - acc: 0.9744 - val_loss: 0.3624 - val_acc: 0.8951\n",
      "Train loss: 0.07056531417314137\n",
      "Train accuracy: 0.9785046728971962\n",
      "Test loss: 0.23619180181053248\n",
      "Test accuracy: 0.9119850178336383\n",
      "\n",
      " Train Log Loss Validation=  0.11162199060157889\n",
      " Test Log Loss Validation=  0.19863421311280283\n",
      "7898.026287317276\n"
     ]
    }
   ],
   "source": [
    "t0 = time()\n",
    "preds=myAngleCV(X_train, X_angle, X_test)\n",
    "print('The running time is about',time() - t0,'s')"
   ]
  },
  {
   "cell_type": "code",
   "execution_count": 21,
   "metadata": {
    "collapsed": true
   },
   "outputs": [],
   "source": [
    "submission = pd.DataFrame()\n",
    "submission['id']=test['id']\n",
    "submission['is_iceberg']=preds\n",
    "submission.to_csv('sub_vgg16_1.csv', index=False)"
   ]
  },
  {
   "cell_type": "code",
   "execution_count": null,
   "metadata": {
    "collapsed": true
   },
   "outputs": [],
   "source": []
  }
 ],
 "metadata": {
  "kernelspec": {
   "display_name": "Python 3",
   "language": "python",
   "name": "python3"
  },
  "language_info": {
   "codemirror_mode": {
    "name": "ipython",
    "version": 3
   },
   "file_extension": ".py",
   "mimetype": "text/x-python",
   "name": "python",
   "nbconvert_exporter": "python",
   "pygments_lexer": "ipython3",
   "version": "3.6.3"
  }
 },
 "nbformat": 4,
 "nbformat_minor": 2
}
